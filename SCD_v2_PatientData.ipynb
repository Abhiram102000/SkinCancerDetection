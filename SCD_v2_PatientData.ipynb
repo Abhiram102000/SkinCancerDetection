{
  "cells": [
    {
      "cell_type": "markdown",
      "metadata": {
        "id": "view-in-github",
        "colab_type": "text"
      },
      "source": [
        "<a href=\"https://colab.research.google.com/github/Abhiram102000/SkinCancerDetection/blob/main/SCD_v2_PatientData.ipynb\" target=\"_parent\"><img src=\"https://colab.research.google.com/assets/colab-badge.svg\" alt=\"Open In Colab\"/></a>"
      ]
    },
    {
      "cell_type": "code",
      "execution_count": null,
      "metadata": {
        "id": "UurlDOtium-n"
      },
      "outputs": [],
      "source": [
        "# Importing the libraries\n",
        "\n",
        "%matplotlib inline\n",
        "!pip install -U tensorflow-addons\n",
        "!pip install -q \"tqdm>=4.36.1\"\n",
        "\n",
        "import tensorflow as tf\n",
        "import tensorflow_addons as tfa\n",
        "import tensorflow_hub as hub\n",
        "import matplotlib.pyplot as plt\n",
        "import numpy as np\n",
        "import pandas as pd\n",
        "import seaborn as sns\n",
        "from tensorflow.keras.utils import get_file\n",
        "from sklearn.metrics import roc_curve, auc, confusion_matrix\n",
        "from imblearn.metrics import sensitivity_score, specificity_score\n",
        "import itertools\n",
        "\n",
        "import keras\n",
        "from keras.utils.np_utils import to_categorical # used for converting labels to one-hot-encoding\n",
        "from keras.models import Sequential, Model\n",
        "from keras.layers import Dense, Dropout, Flatten, Conv2D, MaxPool2D\n",
        "from tensorflow.keras.layers import BatchNormalization\n",
        "from tensorflow.keras.optimizers import Adam, RMSprop\n",
        "from keras.preprocessing.image import ImageDataGenerator\n",
        "from keras.callbacks import ReduceLROnPlateau\n",
        "from keras.wrappers.scikit_learn import KerasClassifier\n",
        "from keras.applications.inception_v3 import InceptionV3\n",
        "from keras import backend as K \n",
        "from PIL import Image\n",
        "from sklearn.preprocessing import StandardScaler \n",
        "from sklearn.model_selection import train_test_split, KFold, cross_val_score, GridSearchCV\n",
        "from sklearn.metrics import accuracy_score\n",
        "\n",
        "import os\n",
        "import glob\n",
        "import zipfile\n",
        "import random\n",
        "\n",
        "# to get consistent results after multiple runs\n",
        "tf.random.set_seed(10)\n",
        "np.random.seed(10)\n",
        "random.seed(10)"
      ]
    },
    {
      "cell_type": "code",
      "execution_count": null,
      "metadata": {
        "id": "i5TZEcfXVGFo"
      },
      "outputs": [],
      "source": [
        "train_df = pd.read_csv('trainSet.csv')\n",
        "test_df = pd.read_csv('testSet.csv')\n",
        "\n",
        "train_df = train_df.rename(columns = {'anatom_site_general_challenge':'site'})\n",
        "test_df = test_df.rename(columns = {'anatom_site_general_challenge':'site'})\n",
        "\n",
        "train_ds = train_df.drop(['image_name', 'patient_id', 'benign_malignant', 'diagnosis' ], axis = 1)\n",
        "test_ds = test_df.drop(['image_name', 'patient_id', 'benign_malignant', 'diagnosis' ], axis = 1)"
      ]
    },
    {
      "cell_type": "code",
      "execution_count": null,
      "metadata": {
        "id": "UolO2u1PtoiP"
      },
      "outputs": [],
      "source": [
        "le = LabelEncoder()\n",
        "train_ds['sex'] = le.fit_transform(train_ds['sex'])\n",
        "test_ds['sex'] = le.fit_transform(test_ds['sex'])\n",
        "\n",
        "train_ds['site'].unique()"
      ]
    },
    {
      "cell_type": "code",
      "execution_count": null,
      "metadata": {
        "id": "CaWVbM4S2OI2"
      },
      "outputs": [],
      "source": [
        "def site_colmn(site):\n",
        "  train_ds[site] = [\n",
        "                    1 if typ == site else 0 for typ in train_ds['site']\n",
        "                    ]\n",
        "  test_ds[site] = [\n",
        "                    1 if typ == site else 0 for typ in test_ds['site']\n",
        "                    ]\n",
        "site_colmn('lower extremity')\n",
        "site_colmn('upper extremity')\n",
        "site_colmn('torso')\n",
        "site_colmn('head/neck')\n",
        "site_colmn('oral/genital')\n",
        "site_colmn('palms/soles')\n",
        "train_ds = train_ds.drop('site', axis=1)\n",
        "test_ds = test_ds.drop('site', axis=1)"
      ]
    },
    {
      "cell_type": "code",
      "execution_count": null,
      "metadata": {
        "id": "OQYueTiEIddL"
      },
      "outputs": [],
      "source": [
        "X_train = train_ds\n",
        "X_test = test_ds\n",
        "y_train = X_train.pop('target')\n",
        "y_test = X_test.pop('target')"
      ]
    },
    {
      "cell_type": "code",
      "execution_count": null,
      "metadata": {
        "id": "Lx-7y2t6X5M6"
      },
      "outputs": [],
      "source": [
        "from sklearn.preprocessing import StandardScaler\n",
        "\n",
        "scaler = StandardScaler()\n",
        "X_train_scaled = scaler.fit_transform(X_train)\n",
        "X_test_scaled = scaler.transform(X_test)"
      ]
    },
    {
      "cell_type": "code",
      "source": [
        "from sklearn.linear_model import LogisticRegression\n",
        "classifier_lr = LogisticRegression()\n",
        "classifier_lr.fit(X_train_scaled, y_train)\n",
        "y_pred_lr = classifier_lr.predict(X_test_scaled)\n",
        "print('Accuracy Score: ',accuracy_score(y_test,y_pred_lr))"
      ],
      "metadata": {
        "id": "6PXmmHERwwYS"
      },
      "execution_count": null,
      "outputs": []
    },
    {
      "cell_type": "code",
      "source": [
        "from sklearn import svm\n",
        "classifier_svm = svm.SVC()\n",
        "classifier_lr.fit(X_train_scaled, y_train)\n",
        "y_pred_svm = classifier_svmpredict(X_test_scaled)\n",
        "print('Accuracy Score: ',accuracy_score(y_test,y_pred_svm))"
      ],
      "metadata": {
        "id": "zH9TTtnIyeGd"
      },
      "execution_count": null,
      "outputs": []
    },
    {
      "cell_type": "code",
      "source": [
        "from sklearn.tree import DecisionTreeClassifier\n",
        "classifier_dt = DecisionTreeClassifier()\n",
        "classifier_dt.fit(X_train_scaled, y_train)\n",
        "y_pred_dt = classifier_dt.predict(X_test_scaled)\n",
        "print('Accuracy Score: ',accuracy_score(y_test,y_pred_lr))"
      ],
      "metadata": {
        "id": "P4zhQ3_ByhwG"
      },
      "execution_count": null,
      "outputs": []
    },
    {
      "cell_type": "code",
      "source": [
        "from sklearn.ensemble import RandomForestClassifier\n",
        "classifier_rf = RandomForestClassifier()\n",
        "classifier_rf.fit(X_train_scaled, y_train)\n",
        "y_pred_rf = classifier_rf.predict(X_test_scaled)\n",
        "print('Accuracy Score: ',accuracy_score(y_test,y_pred_rf))"
      ],
      "metadata": {
        "id": "VSFzreDkyks8"
      },
      "execution_count": null,
      "outputs": []
    },
    {
      "cell_type": "code",
      "source": [
        "from sklearn.ensemble import AdaBoostClassifier\n",
        "classifier_ab = AdaBoostClassifier()\n",
        "classifier_ab.fit(X_train_scaled, y_train)\n",
        "y_pred_ab = classifier_ab.predict(X_test_scaled)\n",
        "print('Accuracy Score: ',accuracy_score(y_test,y_pred_ab))"
      ],
      "metadata": {
        "id": "yhyl_A2tzAZQ"
      },
      "execution_count": null,
      "outputs": []
    },
    {
      "cell_type": "code",
      "source": [
        "from sklearn.ensemble import GradientBoostingClassifier\n",
        "classifier_gb = GradientBoostingClassifier()\n",
        "classifier_gb.fit(X_train_scaled, y_train)\n",
        "y_pred_gb = classifier_gb.predict(X_test_scaled)\n",
        "print('Accuracy Score: ',accuracy_score(y_test,y_pred_gb))"
      ],
      "metadata": {
        "id": "-XbbJAgNzOKC"
      },
      "execution_count": null,
      "outputs": []
    },
    {
      "cell_type": "code",
      "source": [
        "from sklearn.neighbors import KNeighborsClassifier\n",
        "classifier_KNC = KNeighborsClassifier()\n",
        "classifier_KNC.fit(X_train_scaled, y_train)\n",
        "y_pred_KNC = classifier_KNC.predict(X_test_scaled)\n",
        "print('Accuracy Score: ',accuracy_score(y_test,y_pred_ab))\n"
      ],
      "metadata": {
        "id": "FX1bDNkszQnC"
      },
      "execution_count": null,
      "outputs": []
    },
    {
      "cell_type": "code",
      "source": [
        "from sklearn.model_selection import GridSearchCV\n",
        "from sklearn.metrics import classification_report\n",
        "class_names = [\"Benign\", \"Malignant\"]\n",
        "def analyze_grid_result(grid_result):\n",
        "   \n",
        "    # Best parameters and accuracy\n",
        "    print(\"Tuned hyperparameters: (best parameters) \", grid_result.best_params_)\n",
        "    print(\"Accuracy :\", grid_result.best_score_)\n",
        "    \n",
        "    means = grid_result.cv_results_[\"mean_test_score\"]\n",
        "    stds = grid_result.cv_results_[\"std_test_score\"]\n",
        "    for mean, std, params in zip(means, stds, grid_result.cv_results_[\"params\"]):\n",
        "        print(\"%0.3f (+/-%0.03f) for %r\" % (mean, std * 2, params))\n",
        "    print()\n",
        "    print(\"Detailed classification report:\")\n",
        "    y_true, y_pred = y_test, grid_result.predict(X_test)\n",
        "    print(classification_report(y_true, y_pred))\n",
        "    print('Confusion Matrix: \\n',confusion_matrix(y_true, y_pred))\n",
        "    print()\n",
        "    plt.figure()\n",
        "    fpr, tpr, _ = roc_curve(y_true, y_pred)\n",
        "    # obtain ROC AUC\n",
        "    roc_auc = auc(fpr, tpr)\n",
        "    # print score\n",
        "    print(f\"ROC AUC: {roc_auc:.3f}\")\n",
        "    # plot ROC curve\n",
        "    plt.plot(fpr, tpr, color=\"blue\", lw=2,\n",
        "                label='ROC curve (area = {f:.2f})'.format(d=1, f=roc_auc))\n",
        "    plt.xlim([0.0, 1.0])\n",
        "    plt.ylim([0.0, 1.05])\n",
        "    plt.xlabel('False Positive Rate')\n",
        "    plt.ylabel('True Positive Rate')\n",
        "    plt.title('ROC curves')\n",
        "    plt.legend(loc=\"lower right\")\n",
        "    plt.show()\n",
        "    print()\n",
        "    cmn = confusion_matrix(y_test, y_pred)\n",
        "    # Normalise\n",
        "    cmn = cmn.astype('float') / cmn.sum(axis=1)[:, np.newaxis]\n",
        "    # print it\n",
        "    print(cmn)\n",
        "    fig, ax = plt.subplots(figsize=(10,10))\n",
        "    sns.heatmap(cmn, annot=True, fmt='.2f', \n",
        "              xticklabels=[f\"Predicted_{c}\" for c in class_names], \n",
        "              yticklabels=[f\"True_{c}\" for c in class_names],\n",
        "              cmap=\"Blues\"\n",
        "              )\n",
        "    plt.ylabel('Actual')\n",
        "    plt.xlabel('Predicted')\n",
        "    # plot the resulting confusion matrix\n",
        "    plt.show()"
      ],
      "metadata": {
        "id": "KGppvnXwV3Ak"
      },
      "execution_count": null,
      "outputs": []
    },
    {
      "cell_type": "code",
      "source": [
        "# Define models and parameters for LogisticRegression\n",
        "model = LogisticRegression(solver='liblinear')\n",
        "solvers = ['newton-cg', 'liblinear']\n",
        "penalty = ['l2']\n",
        "c_values = [100, 10, 1.0, 0.1, 0.01]\n",
        "# Define grid search\n",
        "grid = dict(solver = solvers, penalty = penalty, C = c_values)\n",
        "cv = StratifiedKFold(n_splits = 50, random_state = 1, shuffle = True)\n",
        "grid_search = GridSearchCV(estimator = model, param_grid = grid, cv = cv, scoring = 'accuracy', error_score = 0)\n",
        "logi_result = grid_search.fit(X_train, y_train)\n",
        "# Logistic Regression Hyperparameter Result\n",
        "analyze_grid_result(logi_result)"
      ],
      "metadata": {
        "id": "h9AkTrLmWASk"
      },
      "execution_count": null,
      "outputs": []
    },
    {
      "cell_type": "code",
      "source": [
        "# Define models and parameters for LogisticRegression\n",
        "model = SVC()\n",
        "# Define grid search\n",
        "tuned_parameters = [\n",
        "    {\"kernel\": [\"rbf\"], \"gamma\": [1e-3, 1e-4], \"C\": [1, 10, 100, 1000]},\n",
        "    {\"kernel\": [\"linear\"], \"C\": [1, 10, 100, 1000]},\n",
        "]\n",
        "cv = StratifiedKFold(n_splits = 2, random_state = 1, shuffle = True)\n",
        "grid_search = GridSearchCV(estimator = model, param_grid = tuned_parameters, cv = cv, scoring = 'accuracy', error_score = 0)\n",
        "scv_result = grid_search.fit(X_train, y_train)\n",
        "# SVC Hyperparameter Result\n",
        "analyze_grid_result(scv_result)"
      ],
      "metadata": {
        "id": "s_USnD5rWDJk"
      },
      "execution_count": null,
      "outputs": []
    },
    {
      "cell_type": "code",
      "source": [
        " #Define models and parameters for LogisticRegression\n",
        "model = RandomForestClassifier(random_state=42)\n",
        "# Define grid search\n",
        "tuned_parameters = { \n",
        "    'n_estimators': [200, 500],\n",
        "    'max_features': ['auto', 'sqrt', 'log2'],\n",
        "    'max_depth' : [4,5,6,7,8],\n",
        "    'criterion' :['gini', 'entropy']\n",
        "}\n",
        "cv = StratifiedKFold(n_splits = 2, random_state = 1, shuffle = True)\n",
        "grid_search = GridSearchCV(estimator = model, param_grid = tuned_parameters, cv = cv, scoring = 'accuracy', error_score = 0)\n",
        "grid_result = grid_search.fit(X_train, y_train)\n",
        "# SVC Hyperparameter Result\n",
        "analyze_grid_result(grid_result)"
      ],
      "metadata": {
        "id": "fdCs2bBKWFnQ"
      },
      "execution_count": null,
      "outputs": []
    },
    {
      "cell_type": "code",
      "execution_count": null,
      "metadata": {
        "id": "4gz3s9uwiUAR"
      },
      "outputs": [],
      "source": [
        "lr = 0.03\n",
        "epochs = 500\n",
        "batch_size = 64\n",
        "\n",
        "learning_rate_reduction = ReduceLROnPlateau(monitor='val_accuracy', \n",
        "                                            patience=25, \n",
        "                                            verbose=1, \n",
        "                                            factor=0.05, \n",
        "                                            min_lr=2.6e-6)\n",
        "\n",
        "tqdm_callback = tfa.callbacks.TQDMProgressBar()\n",
        "\n",
        "model = tf.keras.Sequential([\n",
        "    tf.keras.layers.Dense(128, activation='relu', kernel_initializer='he_normal'),\n",
        "    tf.keras.layers.Dense(256, activation='relu'),\n",
        "    tf.keras.layers.Dense(256, activation='relu'),\n",
        "    tf.keras.layers.Dense(1, activation='sigmoid')\n",
        "])\n",
        "\n",
        "model.compile(\n",
        "    loss = 'binary_crossentropy',\n",
        "    optimizer = Adam(lr),\n",
        "    metrics=[\n",
        "        tf.keras.metrics.BinaryAccuracy(name='accuracy'),\n",
        "        tf.keras.metrics.Precision(name='precision'),\n",
        "        tf.keras.metrics.Recall(name='recall')\n",
        "    ]\n",
        ")"
      ]
    },
    {
      "cell_type": "code",
      "execution_count": null,
      "metadata": {
        "id": "OR3rPLYPi_Fb"
      },
      "outputs": [],
      "source": [
        "history = model.fit(X_train_scaled, y_train, validation_split=0.2,\n",
        "                    epochs= epochs, batch_size= batch_size, verbose=2,\n",
        "                    callbacks=[learning_rate_reduction]\n",
        "                   )"
      ]
    },
    {
      "cell_type": "code",
      "execution_count": null,
      "metadata": {
        "id": "TgO7PnX3oGjh"
      },
      "outputs": [],
      "source": [
        "y_pred = model.predict(X_test_scaled)\n",
        "prediction_classes = [\n",
        "    1 if prob > 0.12 else 0 for prob in np.ravel(y_pred)\n",
        "]"
      ]
    },
    {
      "cell_type": "code",
      "execution_count": null,
      "metadata": {
        "id": "RHnkDHNyjvDq"
      },
      "outputs": [],
      "source": [
        "def plot_roc_auc(y_true, y_pred):\n",
        "  \n",
        "    # prepare for figure\n",
        "    plt.figure()\n",
        "    fpr, tpr, _ = roc_curve(y_true, y_pred)\n",
        "    # obtain ROC AUC\n",
        "    roc_auc = auc(fpr, tpr)\n",
        "    # print score\n",
        "    print(f\"ROC AUC: {roc_auc:.3f}\")\n",
        "    # plot ROC curve\n",
        "    plt.plot(fpr, tpr, color=\"blue\", lw=2,\n",
        "                label='ROC curve (area = {f:.2f})'.format(d=1, f=roc_auc))\n",
        "    plt.xlim([0.0, 1.0])\n",
        "    plt.ylim([0.0, 1.05])\n",
        "    plt.xlabel('False Positive Rate')\n",
        "    plt.ylabel('True Positive Rate')\n",
        "    plt.title('ROC curves')\n",
        "    plt.legend(loc=\"lower right\")\n",
        "    plt.show()\n",
        "\n",
        "plot_roc_auc(y_test, prediction_classes)"
      ]
    },
    {
      "cell_type": "code",
      "execution_count": null,
      "metadata": {
        "id": "KP5FScCFoYLA"
      },
      "outputs": [],
      "source": [
        "from sklearn.metrics import accuracy_score, precision_score, recall_score\n",
        "\n",
        "print(f'Accuracy: {accuracy_score(y_test, prediction_classes)}')\n",
        "print(f'Precision: {precision_score(y_test, prediction_classes)}')\n",
        "print(f'Recall: {recall_score(y_test, prediction_classes)}')"
      ]
    },
    {
      "cell_type": "code",
      "execution_count": null,
      "metadata": {
        "id": "Gq3KBhVzganr"
      },
      "outputs": [],
      "source": [
        "print(history.history.keys())\n",
        "# summarize history for accuracy\n",
        "plt.plot(history.history['accuracy'])\n",
        "plt.plot(history.history['val_accuracy'])\n",
        "plt.title('Model Accuracy')\n",
        "plt.ylabel('Accuracy')\n",
        "plt.xlabel('Epoch')\n",
        "plt.legend(['Train', 'Validation'], loc='upper left')\n",
        "plt.show()\n",
        "# summarize history for loss\n",
        "plt.plot(history.history['loss'])\n",
        "plt.plot(history.history['val_loss'])\n",
        "plt.title('Model Loss')\n",
        "plt.ylabel('Loss')\n",
        "plt.xlabel('Epoch')\n",
        "plt.legend(['Train', 'Validation'], loc='upper left')\n",
        "plt.show()\n",
        "\n",
        "# summarize history for loss\n",
        "plt.plot(history.history['precision'])\n",
        "plt.plot(history.history['val_precision'])\n",
        "plt.title('Model Precision')\n",
        "plt.ylabel('Loss')\n",
        "plt.xlabel('Epoch')\n",
        "plt.legend(['Train', 'Validation'], loc='upper left')\n",
        "plt.show()\n",
        "\n",
        "# summarize history for loss\n",
        "plt.plot(history.history['recall'])\n",
        "plt.plot(history.history['val_recall'])\n",
        "plt.title('Model Recall')\n",
        "plt.ylabel('Loss')\n",
        "plt.xlabel('Epoch')\n",
        "plt.legend(['Train', 'Validation'], loc='upper left')\n",
        "plt.show()"
      ]
    },
    {
      "cell_type": "code",
      "execution_count": null,
      "metadata": {
        "id": "rmsD9BiYhkYL"
      },
      "outputs": [],
      "source": [
        "class_names = [\"Benign\", \"Malignant\"]\n",
        "def plot_confusion_matrix(y_test, y_pred):\n",
        "  cmn = confusion_matrix(y_test, y_pred)\n",
        "  # Normalise\n",
        "  cmn = cmn.astype('float') / cmn.sum(axis=1)[:, np.newaxis]\n",
        "  # print it\n",
        "  print(cmn)\n",
        "  fig, ax = plt.subplots(figsize=(10,10))\n",
        "  sns.heatmap(cmn, annot=True, fmt='.2f', \n",
        "              xticklabels=[f\"Predicted_{c}\" for c in class_names], \n",
        "              yticklabels=[f\"True_{c}\" for c in class_names],\n",
        "              cmap=\"Blues\"\n",
        "              )\n",
        "  plt.ylabel('Actual')\n",
        "  plt.xlabel('Predicted')\n",
        "  # plot the resulting confusion matrix\n",
        "  plt.show()\n",
        "\n",
        "plot_confusion_matrix(y_test, prediction_classes)"
      ]
    }
  ],
  "metadata": {
    "accelerator": "TPU",
    "colab": {
      "collapsed_sections": [],
      "name": "SCD_v2_PatientData.ipynb",
      "provenance": [],
      "authorship_tag": "ABX9TyMsWDym80/HqJPCasVz7jy6",
      "include_colab_link": true
    },
    "kernelspec": {
      "display_name": "Python 3",
      "name": "python3"
    },
    "language_info": {
      "name": "python"
    }
  },
  "nbformat": 4,
  "nbformat_minor": 0
}